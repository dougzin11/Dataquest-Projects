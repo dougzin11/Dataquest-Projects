{
 "cells": [
  {
   "cell_type": "markdown",
   "metadata": {
    "collapsed": true
   },
   "source": [
    "<center><h1 style=\"color: #002c77; font-size: 40px\"> HANDWRITING DIGIT CLASSIFIER - DEEP FEEDFORWARD NN </h1></center>"
   ]
  },
  {
   "cell_type": "markdown",
   "metadata": {
    "collapsed": true
   },
   "source": [
    "<hr>"
   ]
  },
  {
   "cell_type": "markdown",
   "metadata": {
    "collapsed": true
   },
   "source": [
    "<center><h2> Header </h2></center>"
   ]
  },
  {
   "cell_type": "markdown",
   "metadata": {},
   "source": [
    "### Import libraries"
   ]
  },
  {
   "cell_type": "code",
   "execution_count": 30,
   "metadata": {
    "collapsed": false
   },
   "outputs": [],
   "source": [
    "import numpy as np\n",
    "import pandas as pd\n",
    "import matplotlib.pyplot as plt\n",
    "import seaborn as sns\n",
    "import os\n",
    "import sys\n",
    "import datetime\n",
    "import gc\n",
    "import psutil\n",
    "import random\n",
    "from IPython.display import Markdown, display\n",
    "from sklearn.datasets import load_digits\n",
    "from sklearn.model_selection import train_test_split\n",
    "from sklearn.neighbors import KNeighborsClassifier\n",
    "from sklearn.neural_network import MLPClassifier\n",
    "from sklearn.model_selection import KFold\n",
    "from sklearn.metrics import accuracy_score\n",
    "%matplotlib inline"
   ]
  },
  {
   "cell_type": "markdown",
   "metadata": {},
   "source": [
    "<hr>"
   ]
  },
  {
   "cell_type": "markdown",
   "metadata": {},
   "source": [
    "### Change display options"
   ]
  },
  {
   "cell_type": "code",
   "execution_count": 2,
   "metadata": {
    "collapsed": false
   },
   "outputs": [
    {
     "name": "stdout",
     "output_type": "stream",
     "text": [
      "height has been deprecated.\n",
      "\n"
     ]
    }
   ],
   "source": [
    "pd.set_option('display.height', 1000)\n",
    "pd.set_option('display.max_rows', 5000)\n",
    "pd.set_option('display.max_columns', 500)\n",
    "pd.set_option('display.width', 1000)"
   ]
  },
  {
   "cell_type": "markdown",
   "metadata": {},
   "source": [
    "<hr>"
   ]
  },
  {
   "cell_type": "markdown",
   "metadata": {},
   "source": [
    "<center><h2> Load dataset </h2></center>"
   ]
  },
  {
   "cell_type": "markdown",
   "metadata": {},
   "source": [
    "### Import raw dataset"
   ]
  },
  {
   "cell_type": "code",
   "execution_count": 4,
   "metadata": {
    "collapsed": false
   },
   "outputs": [
    {
     "data": {
      "text/plain": [
       "dict_keys(['data', 'target', 'target_names', 'images', 'DESCR'])"
      ]
     },
     "execution_count": 4,
     "metadata": {},
     "output_type": "execute_result"
    }
   ],
   "source": [
    "data_digits = load_digits()\n",
    "data_digits.keys()"
   ]
  },
  {
   "cell_type": "markdown",
   "metadata": {},
   "source": [
    "### Transform data into dataframe"
   ]
  },
  {
   "cell_type": "code",
   "execution_count": 5,
   "metadata": {
    "collapsed": false
   },
   "outputs": [],
   "source": [
    "rDigits = pd.DataFrame(data_digits['data'])\n",
    "labels = pd.Series(data_digits['target'])"
   ]
  },
  {
   "cell_type": "code",
   "execution_count": 6,
   "metadata": {
    "collapsed": false
   },
   "outputs": [
    {
     "data": {
      "text/html": [
       "<div>\n",
       "<table border=\"1\" class=\"dataframe\">\n",
       "  <thead>\n",
       "    <tr style=\"text-align: right;\">\n",
       "      <th></th>\n",
       "      <th>0</th>\n",
       "      <th>1</th>\n",
       "      <th>2</th>\n",
       "      <th>3</th>\n",
       "      <th>4</th>\n",
       "      <th>5</th>\n",
       "      <th>6</th>\n",
       "      <th>7</th>\n",
       "      <th>8</th>\n",
       "      <th>9</th>\n",
       "      <th>10</th>\n",
       "      <th>11</th>\n",
       "      <th>12</th>\n",
       "      <th>13</th>\n",
       "      <th>14</th>\n",
       "      <th>15</th>\n",
       "      <th>16</th>\n",
       "      <th>17</th>\n",
       "      <th>18</th>\n",
       "      <th>19</th>\n",
       "      <th>20</th>\n",
       "      <th>21</th>\n",
       "      <th>22</th>\n",
       "      <th>23</th>\n",
       "      <th>24</th>\n",
       "      <th>25</th>\n",
       "      <th>26</th>\n",
       "      <th>27</th>\n",
       "      <th>28</th>\n",
       "      <th>29</th>\n",
       "      <th>30</th>\n",
       "      <th>31</th>\n",
       "      <th>32</th>\n",
       "      <th>33</th>\n",
       "      <th>34</th>\n",
       "      <th>35</th>\n",
       "      <th>36</th>\n",
       "      <th>37</th>\n",
       "      <th>38</th>\n",
       "      <th>39</th>\n",
       "      <th>40</th>\n",
       "      <th>41</th>\n",
       "      <th>42</th>\n",
       "      <th>43</th>\n",
       "      <th>44</th>\n",
       "      <th>45</th>\n",
       "      <th>46</th>\n",
       "      <th>47</th>\n",
       "      <th>48</th>\n",
       "      <th>49</th>\n",
       "      <th>50</th>\n",
       "      <th>51</th>\n",
       "      <th>52</th>\n",
       "      <th>53</th>\n",
       "      <th>54</th>\n",
       "      <th>55</th>\n",
       "      <th>56</th>\n",
       "      <th>57</th>\n",
       "      <th>58</th>\n",
       "      <th>59</th>\n",
       "      <th>60</th>\n",
       "      <th>61</th>\n",
       "      <th>62</th>\n",
       "      <th>63</th>\n",
       "    </tr>\n",
       "  </thead>\n",
       "  <tbody>\n",
       "    <tr>\n",
       "      <th>0</th>\n",
       "      <td>0.0</td>\n",
       "      <td>0.0</td>\n",
       "      <td>5.0</td>\n",
       "      <td>13.0</td>\n",
       "      <td>9.0</td>\n",
       "      <td>1.0</td>\n",
       "      <td>0.0</td>\n",
       "      <td>0.0</td>\n",
       "      <td>0.0</td>\n",
       "      <td>0.0</td>\n",
       "      <td>13.0</td>\n",
       "      <td>15.0</td>\n",
       "      <td>10.0</td>\n",
       "      <td>15.0</td>\n",
       "      <td>5.0</td>\n",
       "      <td>0.0</td>\n",
       "      <td>0.0</td>\n",
       "      <td>3.0</td>\n",
       "      <td>15.0</td>\n",
       "      <td>2.0</td>\n",
       "      <td>0.0</td>\n",
       "      <td>11.0</td>\n",
       "      <td>8.0</td>\n",
       "      <td>0.0</td>\n",
       "      <td>0.0</td>\n",
       "      <td>4.0</td>\n",
       "      <td>12.0</td>\n",
       "      <td>0.0</td>\n",
       "      <td>0.0</td>\n",
       "      <td>8.0</td>\n",
       "      <td>8.0</td>\n",
       "      <td>0.0</td>\n",
       "      <td>0.0</td>\n",
       "      <td>5.0</td>\n",
       "      <td>8.0</td>\n",
       "      <td>0.0</td>\n",
       "      <td>0.0</td>\n",
       "      <td>9.0</td>\n",
       "      <td>8.0</td>\n",
       "      <td>0.0</td>\n",
       "      <td>0.0</td>\n",
       "      <td>4.0</td>\n",
       "      <td>11.0</td>\n",
       "      <td>0.0</td>\n",
       "      <td>1.0</td>\n",
       "      <td>12.0</td>\n",
       "      <td>7.0</td>\n",
       "      <td>0.0</td>\n",
       "      <td>0.0</td>\n",
       "      <td>2.0</td>\n",
       "      <td>14.0</td>\n",
       "      <td>5.0</td>\n",
       "      <td>10.0</td>\n",
       "      <td>12.0</td>\n",
       "      <td>0.0</td>\n",
       "      <td>0.0</td>\n",
       "      <td>0.0</td>\n",
       "      <td>0.0</td>\n",
       "      <td>6.0</td>\n",
       "      <td>13.0</td>\n",
       "      <td>10.0</td>\n",
       "      <td>0.0</td>\n",
       "      <td>0.0</td>\n",
       "      <td>0.0</td>\n",
       "    </tr>\n",
       "  </tbody>\n",
       "</table>\n",
       "</div>"
      ],
      "text/plain": [
       "    0    1    2     3    4    5    6    7    8    9     10    11    12    13   14   15   16   17    18   19   20    21   22   23   24   25    26   27   28   29   30   31   32   33   34   35   36   37   38   39   40   41    42   43   44    45   46   47   48   49    50   51    52    53   54   55   56   57   58    59    60   61   62   63\n",
       "0  0.0  0.0  5.0  13.0  9.0  1.0  0.0  0.0  0.0  0.0  13.0  15.0  10.0  15.0  5.0  0.0  0.0  3.0  15.0  2.0  0.0  11.0  8.0  0.0  0.0  4.0  12.0  0.0  0.0  8.0  8.0  0.0  0.0  5.0  8.0  0.0  0.0  9.0  8.0  0.0  0.0  4.0  11.0  0.0  1.0  12.0  7.0  0.0  0.0  2.0  14.0  5.0  10.0  12.0  0.0  0.0  0.0  0.0  6.0  13.0  10.0  0.0  0.0  0.0"
      ]
     },
     "execution_count": 6,
     "metadata": {},
     "output_type": "execute_result"
    }
   ],
   "source": [
    "rDigits.head(1)"
   ]
  },
  {
   "cell_type": "markdown",
   "metadata": {},
   "source": [
    "### Visualization of sample images"
   ]
  },
  {
   "cell_type": "code",
   "execution_count": 7,
   "metadata": {
    "collapsed": false
   },
   "outputs": [
    {
     "data": {
      "image/png": "[encoded data removed]",
      "text/plain": [
       "<matplotlib.figure.Figure at 0x13de44557f0>"
      ]
     },
     "metadata": {},
     "output_type": "display_data"
    }
   ],
   "source": [
    "fig, ax = plt.subplots(2, 4)\n",
    "fig.set_figheight(4)\n",
    "fig.set_figwidth(15)\n",
    "\n",
    "## Display the image of the rows 0, 100, 200 and 300 in the first row\n",
    "for col, sample in zip(list(range(0,4)), list(range(0,500,100))):\n",
    "    if sample==0:\n",
    "        img = rDigits.iloc[sample].values\n",
    "    else:\n",
    "        img = rDigits.iloc[sample-1].values\n",
    "    img_reshaped = img.reshape(8,8)\n",
    "    ax[0, col].imshow(img_reshaped, cmap='gray_r')\n",
    "    \n",
    "for col, sample in zip(list(range(0,4)), list(range(1000,1400,100))):\n",
    "    img = rDigits.iloc[sample-1].values\n",
    "    img_reshaped = img.reshape(8,8)\n",
    "    ax[1, col].imshow(img_reshaped, cmap='gray_r')"
   ]
  },
  {
   "cell_type": "markdown",
   "metadata": {},
   "source": [
    "<hr>"
   ]
  },
  {
   "cell_type": "markdown",
   "metadata": {},
   "source": [
    "<center><h2> Model Building </h2></center>"
   ]
  },
  {
   "cell_type": "markdown",
   "metadata": {},
   "source": [
    "### KNN Classifier  - 4 Fold CV"
   ]
  },
  {
   "cell_type": "markdown",
   "metadata": {},
   "source": [
    "- This instance base-learning algorithm makes no assumption about linearity between the features and the output label. Thus, it can capture nonlinearity in the data.\n",
    "- We will test the performance of this algorithm in this section"
   ]
  },
  {
   "cell_type": "code",
   "execution_count": 36,
   "metadata": {
    "collapsed": false
   },
   "outputs": [
    {
     "name": "stdout",
     "output_type": "stream",
     "text": [
      "Maximum accuracy: 0.9677233358079684\n"
     ]
    },
    {
     "data": {
      "text/plain": [
       "<matplotlib.text.Text at 0x13de7cde6d8>"
      ]
     },
     "execution_count": 36,
     "metadata": {},
     "output_type": "execute_result"
    },
    {
     "data": {
      "image/png": "[encoded data removed]",
      "text/plain": [
       "<matplotlib.figure.Figure at 0x13de7ccfbe0>"
      ]
     },
     "metadata": {},
     "output_type": "display_data"
    }
   ],
   "source": [
    "## Function to train the model\n",
    "def KNN_train(neighbors, features_train, labels_train):\n",
    "    # Instantiate the model\n",
    "    knn = KNeighborsClassifier(n_neighbors=neighbors)\n",
    "    knn.fit(features_train, labels_train)\n",
    "    return knn\n",
    "\n",
    "## Function to test the model\n",
    "def KNN_test(model, features_test, labels_test):\n",
    "    predictions = model.predict(features_test)\n",
    "    accuracy = accuracy_score(predictions, labels_test)\n",
    "    return accuracy\n",
    "    \n",
    "## Cross-validation function\n",
    "def crossvalidation(number_splits, data, labels, neighbors):\n",
    "    list_of_accuracies = []\n",
    "    kf = KFold(n_splits=number_splits, random_state=2)\n",
    "    for train_index, test_index in kf.split(data):\n",
    "        X_train, X_test = data.loc[train_index], data.loc[test_index]\n",
    "        y_train, y_test = labels.loc[train_index], labels.loc[test_index]\n",
    "        knn = KNN_train(neighbors, X_train, y_train)\n",
    "        accuracy = KNN_test(knn, X_test, y_test)\n",
    "        list_of_accuracies.append(accuracy)\n",
    "    return list_of_accuracies\n",
    "\n",
    "## Call cross-validation function for different parameters\n",
    "neighbors = list(range(1, 10))\n",
    "\n",
    "k_overall_accuracies = []\n",
    "for neigh in neighbors:\n",
    "    accuracy = crossvalidation(number_splits=4, data=rDigits, labels=labels, neighbors=neigh)\n",
    "    mean_accuracy = np.mean(accuracy)\n",
    "    k_overall_accuracies.append(mean_accuracy)\n",
    "print('Maximum accuracy:', max(k_overall_accuracies))\n",
    "    \n",
    "## Plot the results\n",
    "plt.figure(figsize=(14,4))\n",
    "plt.plot(neighbors, k_overall_accuracies)\n",
    "plt.title('Mean accuracy vs K - considering 4 Fold cross validation')\n",
    "plt.xlabel('K')\n",
    "plt.ylabel('Mean accuracy')"
   ]
  },
  {
   "cell_type": "markdown",
   "metadata": {},
   "source": [
    "KNN had a good mean accuracy but the algorithm has its down sides:\n",
    "- high memory usage (for each new unseen observation, the algorithm calculates the euclidean distance between the new observation and every single point in the trainning set, rank the entire dataset by this euclidean distance in descending order and take into account the K first datapoints to predict the label of the unseen observation)\n",
    "- it is an algorithm and not a model. Therefore, there is no representation to debug and explore"
   ]
  },
  {
   "cell_type": "markdown",
   "metadata": {},
   "source": [
    "### Neural Network with One Hidden Layer - 4 Fold CV"
   ]
  },
  {
   "cell_type": "code",
   "execution_count": 37,
   "metadata": {
    "collapsed": false
   },
   "outputs": [
    {
     "name": "stdout",
     "output_type": "stream",
     "text": [
      "Maximum accuracy: 0.9622222222222222\n"
     ]
    },
    {
     "data": {
      "text/plain": [
       "<matplotlib.text.Text at 0x13de7d774a8>"
      ]
     },
     "execution_count": 37,
     "metadata": {},
     "output_type": "execute_result"
    },
    {
     "data": {
      "image/png": "[encoded data removed]",
      "text/plain": [
       "<matplotlib.figure.Figure at 0x13de7d32d68>"
      ]
     },
     "metadata": {},
     "output_type": "display_data"
    }
   ],
   "source": [
    "def crossvalidation_nn(n_folds, data, labels, neuron):\n",
    "    ## Perform kfold cross-validation\n",
    "    kf = KFold(n_splits=n_folds)\n",
    "    list_of_accuracies=[]\n",
    "    for train_index, test_index in kf.split(data):\n",
    "        X_train, X_test = data.loc[train_index], data.loc[test_index]\n",
    "        y_train, y_test = labels.loc[train_index], labels.loc[test_index]\n",
    "        ## Instantiate the model\n",
    "        nn = MLPClassifier(hidden_layer_sizes=(neuron,), max_iter=1000)\n",
    "        nn.fit(X_train, y_train)\n",
    "        predictions = nn.predict(X_test)\n",
    "        accuracy = accuracy_score(y_test, predictions)\n",
    "        list_of_accuracies.append(accuracy)\n",
    "        return list_of_accuracies\n",
    "        \n",
    "list_of_neurons = [8, 16, 32, 64, 128, 256]\n",
    "overall_accuracies = []\n",
    "for neuron in list_of_neurons:\n",
    "    accuracies = crossvalidation_nn(4, rDigits, labels, neuron)\n",
    "    mean_accuracy = np.mean(accuracies)\n",
    "    overall_accuracies.append(mean_accuracy)\n",
    "print('Maximum accuracy:', max(overall_accuracies))\n",
    "    \n",
    "## Plot the results\n",
    "plt.figure(figsize=(14,4))\n",
    "plt.plot(list_of_neurons, overall_accuracies)\n",
    "plt.title('Mean accuracy vs Number of neurons in hidden layer - considering 4 Fold cross validation')\n",
    "plt.xlabel('Number of neurons in hidden layer')\n",
    "plt.ylabel('Mean accuracy')"
   ]
  },
  {
   "cell_type": "markdown",
   "metadata": {},
   "source": [
    "**Conclusion**\n",
    "- From the graph above, it is possible to conclude that adding more neurons in the hidden layer results in a better accuracy. However, we cannot conclude anything about false positives or true negatives since accuracy only computes the number of overall correct classifications the model made\n",
    "- Comparing the best accuracy betweem the 2 models (KNN and NN), we can see that there's not much difference between the two (both of them results in an accuracy ~96%). Since Neural Networks are harder to understand (often called blackbox models), KNN is a better model to use compared to an NN with 1 hidden layer"
   ]
  },
  {
   "cell_type": "markdown",
   "metadata": {},
   "source": [
    "### Neural Network with Two Hidden Layer - 4 Fold CV"
   ]
  },
  {
   "cell_type": "code",
   "execution_count": 43,
   "metadata": {
    "collapsed": false
   },
   "outputs": [
    {
     "name": "stdout",
     "output_type": "stream",
     "text": [
      "Maximum accuracy: 0.9644444444444444\n",
      "[0.9466666666666667, 0.9511111111111111, 0.9644444444444444]\n"
     ]
    },
    {
     "data": {
      "text/plain": [
       "<matplotlib.text.Text at 0x13de7f484e0>"
      ]
     },
     "execution_count": 43,
     "metadata": {},
     "output_type": "execute_result"
    },
    {
     "data": {
      "image/png": "[encoded data removed]",
      "text/plain": [
       "<matplotlib.figure.Figure at 0x13de7f4dcf8>"
      ]
     },
     "metadata": {},
     "output_type": "display_data"
    }
   ],
   "source": [
    "def crossvalidation_2nn(n_folds, data, labels, neuron1, neuron2):\n",
    "    ## Perform kfold cross-validation\n",
    "    kf = KFold(n_splits=n_folds)\n",
    "    list_of_accuracies=[]\n",
    "    for train_index, test_index in kf.split(data):\n",
    "        X_train, X_test = data.loc[train_index], data.loc[test_index]\n",
    "        y_train, y_test = labels.loc[train_index], labels.loc[test_index]\n",
    "        ## Instantiate the model\n",
    "        nn = MLPClassifier(hidden_layer_sizes=(neuron1, neuron2), max_iter=1000)\n",
    "        nn.fit(X_train, y_train)\n",
    "        predictions = nn.predict(X_test)\n",
    "        accuracy = accuracy_score(y_test, predictions)\n",
    "        list_of_accuracies.append(accuracy)\n",
    "        return list_of_accuracies\n",
    "        \n",
    "list_of_neurons = [64, 128, 256]\n",
    "overall_accuracies = []\n",
    "for neuron in list_of_neurons:\n",
    "    neuron1 = neuron\n",
    "    neuron2 = neuron\n",
    "    accuracies = crossvalidation_2nn(4, rDigits, labels, neuron1, neuron2)\n",
    "    mean_accuracy = np.mean(accuracies)\n",
    "    overall_accuracies.append(mean_accuracy)\n",
    "print('Maximum accuracy:', max(overall_accuracies))\n",
    "print(overall_accuracies)\n",
    "    \n",
    "## Plot the results\n",
    "plt.figure(figsize=(14,4))\n",
    "plt.plot(list_of_neurons, overall_accuracies)\n",
    "plt.title('Mean accuracy vs Number of neurons in 2 hidden layer - considering 4 Fold cross validation')\n",
    "plt.xlabel('Number of neurons in hidden layer')\n",
    "plt.ylabel('Mean accuracy')"
   ]
  },
  {
   "cell_type": "markdown",
   "metadata": {},
   "source": [
    "**Conclusion**\n",
    "- From the graph above, it is possible to conclude that adding one more layer to the model does not significantly improve our accuracy\n",
    "- Since adding more hidden layers usually results in overfitting the model, the section below will run a 3 hidden layers neural network with 6 fold crossvalidation"
   ]
  },
  {
   "cell_type": "markdown",
   "metadata": {},
   "source": [
    "### Neural Network with Three Hidden Layer - 6 Fold CV"
   ]
  },
  {
   "cell_type": "code",
   "execution_count": 44,
   "metadata": {
    "collapsed": false
   },
   "outputs": [
    {
     "name": "stdout",
     "output_type": "stream",
     "text": [
      "Maximum accuracy: 0.9666666666666667\n",
      "[0.9033333333333333, 0.93, 0.9666666666666667]\n"
     ]
    },
    {
     "data": {
      "text/plain": [
       "<matplotlib.text.Text at 0x13de90f45c0>"
      ]
     },
     "execution_count": 44,
     "metadata": {},
     "output_type": "execute_result"
    },
    {
     "data": {
      "image/png": "[encoded data removed]",
      "text/plain": [
       "<matplotlib.figure.Figure at 0x13de8fe4d68>"
      ]
     },
     "metadata": {},
     "output_type": "display_data"
    }
   ],
   "source": [
    "def crossvalidation_3nn(n_folds, data, labels, neuron1, neuron2, neuron3):\n",
    "    ## Perform kfold cross-validation\n",
    "    kf = KFold(n_splits=n_folds)\n",
    "    list_of_accuracies=[]\n",
    "    for train_index, test_index in kf.split(data):\n",
    "        X_train, X_test = data.loc[train_index], data.loc[test_index]\n",
    "        y_train, y_test = labels.loc[train_index], labels.loc[test_index]\n",
    "        ## Instantiate the model\n",
    "        nn = MLPClassifier(hidden_layer_sizes=(neuron1, neuron2, neuron3), max_iter=1000)\n",
    "        nn.fit(X_train, y_train)\n",
    "        predictions = nn.predict(X_test)\n",
    "        accuracy = accuracy_score(y_test, predictions)\n",
    "        list_of_accuracies.append(accuracy)\n",
    "        return list_of_accuracies\n",
    "        \n",
    "list_of_neurons = [10, 64, 128]\n",
    "overall_accuracies = []\n",
    "for neuron in list_of_neurons:\n",
    "    neuron1 = neuron\n",
    "    neuron2 = neuron\n",
    "    neuron3 = neuron\n",
    "    accuracies = crossvalidation_3nn(6, rDigits, labels, neuron1, neuron2, neuron3)\n",
    "    mean_accuracy = np.mean(accuracies)\n",
    "    overall_accuracies.append(mean_accuracy)\n",
    "print('Maximum accuracy:', max(overall_accuracies))\n",
    "print(overall_accuracies)\n",
    "    \n",
    "## Plot the results\n",
    "plt.figure(figsize=(14,4))\n",
    "plt.plot(list_of_neurons, overall_accuracies)\n",
    "plt.title('Mean accuracy vs Number of neurons in 3 hidden layer - considering 6 Fold cross validation')\n",
    "plt.xlabel('Number of neurons in hidden layer')\n",
    "plt.ylabel('Mean accuracy')"
   ]
  },
  {
   "cell_type": "markdown",
   "metadata": {},
   "source": [
    "**Conclusion**\n",
    "- From the graph above, it is possible to conclude that adding one more layer to the model does not significantly improve our accuracy (less than 1% of improvement)\n",
    "- Neural Network with 3 hidden layers have a great accuracy overall, even with a 6-fold crossvalidation\n",
    "- It is possible to see that, for this dataset, adding more layers and more neurons tends to improve the model performance (if the error metric chosen is accuracy as well. For other error metrics, further analysis must be ran)"
   ]
  },
  {
   "cell_type": "markdown",
   "metadata": {},
   "source": [
    "<hr>"
   ]
  }
 ],
 "metadata": {
  "anaconda-cloud": {},
  "kernelspec": {
   "display_name": "Python 3",
   "language": "python",
   "name": "python3"
  },
  "toc": {
   "base_numbering": 1,
   "nav_menu": {},
   "number_sections": true,
   "sideBar": true,
   "skip_h1_title": false,
   "title_cell": "Table of Contents",
   "title_sidebar": "Contents",
   "toc_cell": false,
   "toc_position": {},
   "toc_section_display": true,
   "toc_window_display": true
  }
 },
 "nbformat": 4,
 "nbformat_minor": 2
}
