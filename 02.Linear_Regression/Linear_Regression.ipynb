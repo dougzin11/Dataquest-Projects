{
 "cells": [
  {
   "cell_type": "markdown",
   "metadata": {
    "collapsed": true
   },
   "source": [
    "<center><h1 style=\"color: #002c77; font-size: 28px\"> Linear Regression - House Sales Dataset</h1></center>"
   ]
  },
  {
   "cell_type": "markdown",
   "metadata": {},
   "source": [
    "<hr>"
   ]
  },
  {
   "cell_type": "markdown",
   "metadata": {},
   "source": [
    "<center><h2>Importing libraries</center></h2>"
   ]
  },
  {
   "cell_type": "code",
   "execution_count": 138,
   "metadata": {
    "collapsed": true
   },
   "outputs": [],
   "source": [
    "import pandas as pd\n",
    "import numpy as np\n",
    "import matplotlib.pyplot as plt\n",
    "import seaborn as sns\n",
    "from sklearn.linear_model import LinearRegression\n",
    "from sklearn.metrics import mean_squared_error\n",
    "from sklearn.model_selection import KFold\n",
    "\n",
    "pd.options.display.max_columns = 999\n",
    "pd.options.display.max_rows = 999\n",
    "%matplotlib inline"
   ]
  },
  {
   "cell_type": "markdown",
   "metadata": {},
   "source": [
    "<hr>"
   ]
  },
  {
   "cell_type": "markdown",
   "metadata": {},
   "source": [
    "<center><h2>Creating local functions</center></h2>"
   ]
  },
  {
   "cell_type": "code",
   "execution_count": 139,
   "metadata": {
    "collapsed": true
   },
   "outputs": [],
   "source": [
    "## Function removes the features that the model will not use,\n",
    "## transform features into the proper format and create new\n",
    "## features by combining other features (feature engineering)\n",
    "def transform_features(dataframe, threshold):\n",
    "    # create copy of original dataframe\n",
    "    copy_dataframe = dataframe.copy()\n",
    "    \n",
    "    # iterate over each column and evaluate if there is more than\n",
    "    # XX% nulls. If there is, drop the entire column\n",
    "    print('Evaluating columns to drop')\n",
    "    for col in copy_dataframe:\n",
    "        number_nulls = copy_dataframe[col].isnull().sum()\n",
    "        percentage_nulls = number_nulls/(len(copy_dataframe))\n",
    "        if percentage_nulls > threshold:\n",
    "            print('  Dropping', col, end='...')\n",
    "            copy_dataframe.drop(col, axis=1, inplace=True)\n",
    "            print('Ok')\n",
    "        else:\n",
    "            pass\n",
    "    print('\\n')\n",
    "    float_int_cols = (copy_dataframe.\n",
    "                      select_dtypes(include=['float',\n",
    "                                             'int'])).columns\n",
    "    print('Filling int and float cols')\n",
    "    for col in float_int_cols:\n",
    "        number_nulls = copy_dataframe[col].isnull().sum()\n",
    "        percentage_nulls = number_nulls / len(copy_dataframe)\n",
    "        if percentage_nulls < 0.05:\n",
    "            print('  Imputing missing values in' + \n",
    "                  col + 'with mode', end='...')\n",
    "            copy_dataframe[col].fillna(\n",
    "                copy_dataframe[col].mode()[0],\n",
    "                inplace=True)\n",
    "            print('Ok')\n",
    "        else:\n",
    "            pass\n",
    "    print('\\n')\n",
    "    \n",
    "    print('Drop rows with any missing value in text columns',\n",
    "          end='...')\n",
    "    text_cols = (copy_dataframe.\n",
    "                 select_dtypes(exclude=['float',\n",
    "                                        'int'])).columns\n",
    "    copy_dataframe.dropna(subset=text_cols,\n",
    "                          axis=0,\n",
    "                          inplace=True)\n",
    "    print('Ok')\n",
    "    print('\\n')\n",
    "    return copy_dataframe"
   ]
  },
  {
   "cell_type": "code",
   "execution_count": 140,
   "metadata": {
    "collapsed": true
   },
   "outputs": [],
   "source": [
    "def train_and_test(dataframe, split, model, target):\n",
    "    train = dataframe[:split]\n",
    "    test = dataframe[split:]\n",
    "    model.fit(train.drop(target, axis=1), train[target])\n",
    "    predictions_test = model.predict(test[target])\n",
    "    rmse = np.sqrt(mean_squared_error(predictions_test,\n",
    "                                      test[target]))\n",
    "    return rmse"
   ]
  },
  {
   "cell_type": "markdown",
   "metadata": {},
   "source": [
    "<hr>"
   ]
  },
  {
   "cell_type": "markdown",
   "metadata": {},
   "source": [
    "<center><h2>Loading dataset</center></h2>"
   ]
  },
  {
   "cell_type": "code",
   "execution_count": 141,
   "metadata": {
    "collapsed": false
   },
   "outputs": [],
   "source": [
    "df = pd.read_csv(r'AmesHousing.tsv', sep='\\t')"
   ]
  },
  {
   "cell_type": "markdown",
   "metadata": {},
   "source": [
    "<hr>"
   ]
  },
  {
   "cell_type": "markdown",
   "metadata": {},
   "source": [
    "<center><h2>Data Manipulation</center></h2>"
   ]
  },
  {
   "cell_type": "markdown",
   "metadata": {},
   "source": [
    "### Data cleaning"
   ]
  },
  {
   "cell_type": "markdown",
   "metadata": {},
   "source": [
    "The local function transform_features was written to:\n",
    "- Drop any column with 0.05 (5%) or above of null entries\n",
    "- Fill int and float columns with their mode (most frequent value in the column)\n",
    "- Drop any rows with text columns null"
   ]
  },
  {
   "cell_type": "code",
   "execution_count": 142,
   "metadata": {
    "collapsed": false
   },
   "outputs": [
    {
     "name": "stdout",
     "output_type": "stream",
     "text": [
      "Evaluating columns to drop\n",
      "  Dropping Lot Frontage...Ok\n",
      "  Dropping Alley...Ok\n",
      "  Dropping Fireplace Qu...Ok\n",
      "  Dropping Garage Type...Ok\n",
      "  Dropping Garage Yr Blt...Ok\n",
      "  Dropping Garage Finish...Ok\n",
      "  Dropping Garage Qual...Ok\n",
      "  Dropping Garage Cond...Ok\n",
      "  Dropping Pool QC...Ok\n",
      "  Dropping Fence...Ok\n",
      "  Dropping Misc Feature...Ok\n",
      "\n",
      "\n",
      "Filling int and float cols\n",
      "  Imputing missing values inOrderwith mode...Ok\n",
      "  Imputing missing values inPIDwith mode...Ok\n",
      "  Imputing missing values inMS SubClasswith mode...Ok\n",
      "  Imputing missing values inLot Areawith mode...Ok\n",
      "  Imputing missing values inOverall Qualwith mode...Ok\n",
      "  Imputing missing values inOverall Condwith mode...Ok\n",
      "  Imputing missing values inYear Builtwith mode...Ok\n",
      "  Imputing missing values inYear Remod/Addwith mode...Ok\n",
      "  Imputing missing values inMas Vnr Areawith mode...Ok\n",
      "  Imputing missing values inBsmtFin SF 1with mode...Ok\n",
      "  Imputing missing values inBsmtFin SF 2with mode...Ok\n",
      "  Imputing missing values inBsmt Unf SFwith mode...Ok\n",
      "  Imputing missing values inTotal Bsmt SFwith mode...Ok\n",
      "  Imputing missing values in1st Flr SFwith mode...Ok\n",
      "  Imputing missing values in2nd Flr SFwith mode...Ok\n",
      "  Imputing missing values inLow Qual Fin SFwith mode...Ok\n",
      "  Imputing missing values inGr Liv Areawith mode...Ok\n",
      "  Imputing missing values inBsmt Full Bathwith mode...Ok\n",
      "  Imputing missing values inBsmt Half Bathwith mode...Ok\n",
      "  Imputing missing values inFull Bathwith mode...Ok\n",
      "  Imputing missing values inHalf Bathwith mode...Ok\n",
      "  Imputing missing values inBedroom AbvGrwith mode...Ok\n",
      "  Imputing missing values inKitchen AbvGrwith mode...Ok\n",
      "  Imputing missing values inTotRms AbvGrdwith mode...Ok\n",
      "  Imputing missing values inFireplaceswith mode...Ok\n",
      "  Imputing missing values inGarage Carswith mode...Ok\n",
      "  Imputing missing values inGarage Areawith mode...Ok\n",
      "  Imputing missing values inWood Deck SFwith mode...Ok\n",
      "  Imputing missing values inOpen Porch SFwith mode...Ok\n",
      "  Imputing missing values inEnclosed Porchwith mode...Ok\n",
      "  Imputing missing values in3Ssn Porchwith mode...Ok\n",
      "  Imputing missing values inScreen Porchwith mode...Ok\n",
      "  Imputing missing values inPool Areawith mode...Ok\n",
      "  Imputing missing values inMisc Valwith mode...Ok\n",
      "  Imputing missing values inMo Soldwith mode...Ok\n",
      "  Imputing missing values inYr Soldwith mode...Ok\n",
      "  Imputing missing values inSalePricewith mode...Ok\n",
      "\n",
      "\n",
      "Drop rows with any missing value in text columns...Ok\n",
      "\n",
      "\n"
     ]
    }
   ],
   "source": [
    "cleaned_df = transform_features(df, 0.05)"
   ]
  },
  {
   "cell_type": "markdown",
   "metadata": {},
   "source": [
    "### Feature engineering "
   ]
  },
  {
   "cell_type": "markdown",
   "metadata": {},
   "source": [
    "There are 2 new features that we can create:\n",
    "- Number of years between the year it was sold and the last remodeling\n",
    "- \"Age\" of the house when it was sold"
   ]
  },
  {
   "cell_type": "code",
   "execution_count": 143,
   "metadata": {
    "collapsed": true
   },
   "outputs": [],
   "source": [
    "## Create years before being sold column\n",
    "cleaned_df['YEARS_BEFORE_SOLD'] = (cleaned_df['Yr Sold'] -\n",
    "                                   cleaned_df['Year Built'])\n",
    "\n",
    "## Create years before last remodeling\n",
    "cleaned_df['YEARS_SINCE_REMODEL'] = (cleaned_df['Yr Sold'] -\n",
    "                                     cleaned_df['Year Remod/Add'])\n",
    "\n",
    "## Drop any rows that have negative values for these 2 new columns\n",
    "cleaned_df = cleaned_df[(cleaned_df['YEARS_BEFORE_SOLD']>=0)&\n",
    "                        (cleaned_df['YEARS_SINCE_REMODEL']>=0)]\n",
    "\n",
    "## Drop original columns\n",
    "cleaned_df.drop(['Year Built', 'Year Remod/Add'],\n",
    "                axis=1, inplace=True)"
   ]
  },
  {
   "cell_type": "markdown",
   "metadata": {},
   "source": [
    "### Feature selection"
   ]
  },
  {
   "cell_type": "markdown",
   "metadata": {},
   "source": [
    " - First, let's drop columns that (1) are not useful for the model and (2) represents data leakage:\n",
    "1. PID, Order\n",
    "2. Mo Sold, Sale Condition, Sale Type, Yr Sold\n",
    "\n",
    "- Second, let's study the correlation between numerical columns and drop those who have a high correlation with the target column (SalePrice)\n",
    "\n",
    "\n",
    "- Third, let's study the correlation between the feature columns and drop those who have a correlation higher than 0.7\n",
    "\n",
    "\n",
    "- Fourth, let's study text columns and drop those who have more than 10 different entries (the remaining text column will be transformed into category and dummy columns)"
   ]
  },
  {
   "cell_type": "code",
   "execution_count": 144,
   "metadata": {
    "collapsed": true
   },
   "outputs": [],
   "source": [
    "not_useful = ['PID', 'Order']\n",
    "leakage = ['Mo Sold', 'Sale Condition', 'Sale Type', 'Yr Sold']\n",
    "\n",
    "## Drop columns that are not useful for the model\n",
    "cleaned_df.drop(not_useful, axis=1, inplace=True)\n",
    "cleaned_df.drop(leakage, axis=1, inplace=True)"
   ]
  },
  {
   "cell_type": "code",
   "execution_count": 145,
   "metadata": {
    "collapsed": false,
    "scrolled": true
   },
   "outputs": [
    {
     "name": "stderr",
     "output_type": "stream",
     "text": [
      "/dataquest/system/env/python3/lib/python3.4/site-packages/ipykernel/__main__.py:12: SettingWithCopyWarning: \n",
      "A value is trying to be set on a copy of a slice from a DataFrame\n",
      "\n",
      "See the caveats in the documentation: http://pandas.pydata.org/pandas-docs/stable/indexing.html#indexing-view-versus-copy\n"
     ]
    }
   ],
   "source": [
    "## Slice dataframe to select only numerical columns\n",
    "numerical_cleaned_df = cleaned_df.select_dtypes(include=['float',\n",
    "                                                         'int'])\n",
    "\n",
    "## Drop columns that have a correlation above 0.4\n",
    "threshold = 0.4\n",
    "corr = numerical_cleaned_df.corr().abs()['SalePrice']\n",
    "cols_drop = corr[corr > 0.4].index\n",
    "cols_drop = [i for i in cols_drop if 'SalePrice' not in i]\n",
    "numerical_cleaned_df.drop(cols_drop,\n",
    "                          axis=1,\n",
    "                          inplace=True)"
   ]
  },
  {
   "cell_type": "code",
   "execution_count": 146,
   "metadata": {
    "collapsed": false
   },
   "outputs": [],
   "source": [
    "threshold = 0.7\n",
    "## Evaluate if the remaining columns have a high correlation\n",
    "for col in numerical_cleaned_df.columns:\n",
    "    correlations = numerical_cleaned_df.corr().abs()[col]\n",
    "    corr_df = pd.DataFrame(correlations)\n",
    "    indexes = [i for i in corr_df.index if col not in i]\n",
    "    for ind in indexes:\n",
    "        if corr_df.loc[ind][col] > threshold:\n",
    "            print(ind, 'has a corr above',\n",
    "                  threshold, 'with the', col, '\\n')"
   ]
  },
  {
   "cell_type": "code",
   "execution_count": 147,
   "metadata": {
    "collapsed": false
   },
   "outputs": [
    {
     "name": "stderr",
     "output_type": "stream",
     "text": [
      "/dataquest/system/env/python3/lib/python3.4/site-packages/ipykernel/__main__.py:19: SettingWithCopyWarning: \n",
      "A value is trying to be set on a copy of a slice from a DataFrame.\n",
      "Try using .loc[row_indexer,col_indexer] = value instead\n",
      "\n",
      "See the caveats in the documentation: http://pandas.pydata.org/pandas-docs/stable/indexing.html#indexing-view-versus-copy\n",
      "/dataquest/system/env/python3/lib/python3.4/site-packages/ipykernel/__main__.py:25: SettingWithCopyWarning: \n",
      "A value is trying to be set on a copy of a slice from a DataFrame\n",
      "\n",
      "See the caveats in the documentation: http://pandas.pydata.org/pandas-docs/stable/indexing.html#indexing-view-versus-copy\n",
      "/dataquest/system/env/python3/lib/python3.4/site-packages/ipykernel/__main__.py:29: SettingWithCopyWarning: \n",
      "A value is trying to be set on a copy of a slice from a DataFrame.\n",
      "Try using .loc[row_indexer,col_indexer] = value instead\n",
      "\n",
      "See the caveats in the documentation: http://pandas.pydata.org/pandas-docs/stable/indexing.html#indexing-view-versus-copy\n"
     ]
    }
   ],
   "source": [
    "## List of columns supposed to be categorical \n",
    "nominal_features = [\"PID\", \"MS SubClass\", \"MS Zoning\", \n",
    "                    \"Street\", \"Alley\", \"Land Contour\", \n",
    "                    \"Lot Config\", \"Neighborhood\", \n",
    "                    \"Condition 1\", \"Condition 2\", \n",
    "                    \"Bldg Type\", \"House Style\", \"Roof Style\", \n",
    "                    \"Roof Matl\", \"Exterior 1st\", \n",
    "                    \"Exterior 2nd\", \"Mas Vnr Type\", \n",
    "                    \"Foundation\", \"Heating\", \"Central Air\", \n",
    "                    \"Garage Type\", \"Misc Feature\", \n",
    "                    \"Sale Type\", \"Sale Condition\"]\n",
    "\n",
    "## Selecting columns with text\n",
    "text_cleaned_df = cleaned_df.select_dtypes(exclude=['float',\n",
    "                                                    'int'])\n",
    "for col in text_cleaned_df.columns:\n",
    "    if col in nominal_features:\n",
    "        text_cleaned_df[col] = (text_cleaned_df[col].\n",
    "                                astype('category'))\n",
    "category_cleaned_df = (text_cleaned_df.\n",
    "                       select_dtypes(include=['category']))\n",
    "for col in category_cleaned_df:\n",
    "    num_unique = category_cleaned_df[col].nunique()\n",
    "    if num_unique>10:\n",
    "        category_cleaned_df.drop(col, axis=1, inplace=True)\n",
    "\n",
    "other_text_df = text_cleaned_df.select_dtypes(include=['object'])\n",
    "for col in other_text_df.columns:\n",
    "    other_text_df[col] = other_text_df[col].astype('category')\n",
    "\n",
    "category_df_final = pd.concat([category_cleaned_df, \n",
    "                               other_text_df],\n",
    "                               axis=1)\n",
    "\n",
    "## Transform category dataframe into dummies\n",
    "for col in category_df_final.columns:\n",
    "    dummies = pd.get_dummies(category_df_final[col],\n",
    "                             prefix=col, drop_first=True)\n",
    "    category_df_final = pd.concat([category_df_final,\n",
    "                                   dummies], axis=1)\n",
    "    category_df_final.drop(col, axis=1, inplace=True)"
   ]
  },
  {
   "cell_type": "markdown",
   "metadata": {},
   "source": [
    "<hr>"
   ]
  },
  {
   "cell_type": "markdown",
   "metadata": {},
   "source": [
    "<center><h2> Model Building</center></h2>"
   ]
  },
  {
   "cell_type": "markdown",
   "metadata": {},
   "source": [
    "First, let's create our final cleaned dataframe and run our local function to evaluate the performance of our model"
   ]
  },
  {
   "cell_type": "code",
   "execution_count": 148,
   "metadata": {
    "collapsed": true
   },
   "outputs": [],
   "source": [
    "## Creating final dataframe\n",
    "final_df = pd.concat([numerical_cleaned_df, category_df_final],\n",
    "                     axis=1)\n",
    "\n",
    "## Instantiate the model\n",
    "model = LinearRegression()\n",
    "\n",
    "## Define the target variable\n",
    "target = 'SalePrice'"
   ]
  },
  {
   "cell_type": "code",
   "execution_count": 149,
   "metadata": {
    "collapsed": true
   },
   "outputs": [],
   "source": [
    "def train_and_test(dataframe, split, model, target, k):\n",
    "    if k==0:\n",
    "        train = dataframe[:split]\n",
    "        test = dataframe[split:]\n",
    "        model.fit(train.drop(target, axis=1), train[target])\n",
    "        predictions_test = model.predict(test.drop(target, axis=1))\n",
    "        rmse = np.sqrt(mean_squared_error(predictions_test,\n",
    "                                          test[target]))\n",
    "    if k==1:\n",
    "        ## shuffle dataframe\n",
    "        dataframe = dataframe.sample(frac=1).reset_index()\n",
    "        fold_one = dataframe[:split]\n",
    "        fold_two = dataframe[split:]\n",
    "        rmses = []\n",
    "        for fold in [fold_one, fold_two]:\n",
    "            model.fit(fold.drop(target, axis=1),\n",
    "                      fold[target])\n",
    "            if fold.equals(fold_one):\n",
    "                predictions = model.predict(fold_two.drop(target,\n",
    "                                                          axis=1))\n",
    "                rmse1 = np.sqrt(mean_squared_error(predictions,\n",
    "                                                   fold_two[target]))\n",
    "                rmses.append(rmse1)\n",
    "            else:\n",
    "                predictions = model.predict(fold_one.drop(target,\n",
    "                                                          axis=1))\n",
    "                rmse2 = np.sqrt(mean_squared_error(predictions,\n",
    "                                                   fold_one[target]))\n",
    "                rmses.append(rmse2)\n",
    "                \n",
    "            rmse = np.mean(rmses)\n",
    "    else:\n",
    "        kf = KFold(n_splits=k, shuffle=True)\n",
    "        rmses = []\n",
    "        for train_index, test_index in kf.split(dataframe):\n",
    "            train = dataframe.iloc[train_index]\n",
    "            test = dataframe.iloc[test_index]\n",
    "            model.fit(train.drop(target, axis=1), train[target])\n",
    "            predictions = model.predict(test.drop(target, axis=1))\n",
    "            error = np.sqrt(mean_squared_error(predictions,\n",
    "                                               test[target]))\n",
    "            rmses.append(error)\n",
    "        rmse = np.mean(rmses)\n",
    "    return rmse"
   ]
  },
  {
   "cell_type": "markdown",
   "metadata": {},
   "source": [
    "<hr>"
   ]
  },
  {
   "cell_type": "markdown",
   "metadata": {},
   "source": [
    "<center><h2>Visualization for different K values</center></h2>"
   ]
  },
  {
   "cell_type": "code",
   "execution_count": 151,
   "metadata": {
    "collapsed": false
   },
   "outputs": [
    {
     "data": {
      "text/plain": [
       "[<matplotlib.lines.Line2D at 0x7ffb3e0a1c88>]"
      ]
     },
     "execution_count": 151,
     "metadata": {},
     "output_type": "execute_result"
    },
    {
     "data": {
      "image/png": "[encoded data removed]",
      "text/plain": [
       "<matplotlib.figure.Figure at 0x7ffb3bca6588>"
      ]
     },
     "metadata": {},
     "output_type": "display_data"
    }
   ],
   "source": [
    "plt.figure(figsize=(10,5))\n",
    "results = []\n",
    "for k in range(1, 11):\n",
    "    result = train_and_test(final_df, 1460, model, target, k)\n",
    "    results.append(result)\n",
    "    \n",
    "plt.plot(range(1,11), results)"
   ]
  },
  {
   "cell_type": "code",
   "execution_count": 152,
   "metadata": {
    "collapsed": false
   },
   "outputs": [
    {
     "data": {
      "text/plain": [
       "38923.99239247427"
      ]
     },
     "execution_count": 152,
     "metadata": {},
     "output_type": "execute_result"
    }
   ],
   "source": [
    "train_and_test(final_df, 1460, model, target, 8)"
   ]
  },
  {
   "cell_type": "markdown",
   "metadata": {},
   "source": [
    "<hr>"
   ]
  }
 ],
 "metadata": {
  "anaconda-cloud": {},
  "kernelspec": {
   "display_name": "Python 3",
   "language": "python",
   "name": "python3"
  },
  "language_info": {
   "codemirror_mode": {
    "name": "ipython",
    "version": 3
   },
   "file_extension": ".py",
   "mimetype": "text/x-python",
   "name": "python",
   "nbconvert_exporter": "python",
   "pygments_lexer": "ipython3",
   "version": "3.4.3"
  }
 },
 "nbformat": 4,
 "nbformat_minor": 2
}
