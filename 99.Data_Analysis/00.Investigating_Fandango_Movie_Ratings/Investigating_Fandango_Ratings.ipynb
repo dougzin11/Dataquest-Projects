{
 "cells": [
  {
   "cell_type": "markdown",
   "metadata": {},
   "source": [
    "<h1> Investigating Fandango Movie Ratings </h1>"
   ]
  },
  {
   "cell_type": "markdown",
   "metadata": {},
   "source": [
    "In 2015, Walt Hickey from FiveThirtyEight published a [popular article](https://fivethirtyeight.com/features/fandango-movies-ratings/) where he presented strong evidence which suggest that Fandango's movie rating system was biased and dishonest. In this project, more recent movie ratings data will be analyze to determine whether there has been any change in Fandango's rating system after Hickey's analysis"
   ]
  },
  {
   "cell_type": "markdown",
   "metadata": {},
   "source": [
    "<hr>"
   ]
  },
  {
   "cell_type": "markdown",
   "metadata": {},
   "source": [
    "<center><h2> Import libraries </h2></center>"
   ]
  },
  {
   "cell_type": "code",
   "execution_count": 9,
   "metadata": {
    "collapsed": false
   },
   "outputs": [],
   "source": [
    "import pandas as pd\n",
    "import numpy as np\n",
    "import seaborn as sns\n",
    "import matplotlib.pyplot as plt\n",
    "\n",
    "%matplotlib inline"
   ]
  },
  {
   "cell_type": "markdown",
   "metadata": {},
   "source": [
    "<hr>"
   ]
  },
  {
   "cell_type": "markdown",
   "metadata": {},
   "source": [
    "<center><h2> Loading dataset </h2></center>"
   ]
  },
  {
   "cell_type": "markdown",
   "metadata": {},
   "source": [
    "We will work with 2 different datasets:\n",
    "1. The data Walt Hickey collected to analyze the characteristics of Fandango's rating system previous to his analysis. This data is publicly available [on GitHub](https://github.com/fivethirtyeight/data/tree/master/fandango)\n",
    "\n",
    "2. Another set of data which contains movie ratings for movie released in 2016 and 2017. THis data is also publicly available [on Github](https://github.com/mircealex/Movie_ratings_2016_17)"
   ]
  },
  {
   "cell_type": "code",
   "execution_count": 10,
   "metadata": {
    "collapsed": true
   },
   "outputs": [],
   "source": [
    "# Loading the data from Walt Hickey\n",
    "rPrevious = pd.read_csv(r'fandango_score_comparison.csv')\n",
    "\n",
    "# Loading the data from 2016-17\n",
    "rAfter = pd.read_csv(r'movie_ratings_16_17.csv')"
   ]
  },
  {
   "cell_type": "markdown",
   "metadata": {},
   "source": [
    "Since our goal is to determine whether there has been any change in Fandango's rating system after Hickey's analysis, it is important to analyze first if both of this samples are representative of our population of interest.\n",
    "\n",
    "From Hickey's article and from the [README.md](https://github.com/fivethirtyeight/data/tree/master/fandango) of the data set's repository, we can see that he used the following sampling criteria:\n",
    "- The movie must have had at least 30 fan ratings on Fandango's website at the time of sampling (Aug. 24, 2015)\n",
    "- The movie must have had tickets on sale in 2015\n",
    "\n",
    "On the other hand, the dataset from 2016-17 collected data using the following criterias:\n",
    "- The movie must have been released in 2016 or later\n",
    "- The movie must have had a considerable number of votes and reviews (unclear how many from the README.md or from the data)\n",
    "These conditions can also be found in the [README.md](https://github.com/mircealex/Movie_ratings_2016_17) from the repository\n",
    "\n",
    "Therefore, given both of conditions used for collecting each dataset, **we can conclude that the samples were clearly not randomly picked (some movies didn't even had a chance to be picked at all - like those having under 30 fan ratings or those without tickets on sale in 2015) and are not representative of our population of interest**\n",
    "\n",
    "Given the above, we will change our goal to determine whether there's any difference between Fandango's ratings for popular movies in 2015 and Fandango's ratings for popular movies in 2016"
   ]
  },
  {
   "cell_type": "markdown",
   "metadata": {},
   "source": [
    "<hr>"
   ]
  },
  {
   "cell_type": "markdown",
   "metadata": {},
   "source": [
    "<center><h2> Defining popularity </h2></center>"
   ]
  },
  {
   "cell_type": "markdown",
   "metadata": {},
   "source": [
    "With this new research goal, we have two populations of interest:\n",
    "- All Fandango's ratings for popular movies released in 2015\n",
    "- All Fandango's ratings for popular movies released in 2016\n",
    "\n",
    "We need to be clear about what counts as popular movies. We'll use Hickey's benchmark of 30 fan ratings and count a movie as popular only if it has 30 fan ratings or more on Fandango's website.\n",
    "\n",
    "However, this definition of popularity gives us a hard time since we do not have any information about number of ratings in the dataset from 2016-17. To check if this dataset has any popular movies (i.e. it is representative of popular movies released in 2016), we will select a sample size of 10 movies and research for the number of ratings in the fandango website ourselves"
   ]
  },
  {
   "cell_type": "code",
   "execution_count": 13,
   "metadata": {
    "collapsed": false
   },
   "outputs": [
    {
     "data": {
      "text/html": [
       "<div>\n",
       "<style scoped>\n",
       "    .dataframe tbody tr th:only-of-type {\n",
       "        vertical-align: middle;\n",
       "    }\n",
       "\n",
       "    .dataframe tbody tr th {\n",
       "        vertical-align: top;\n",
       "    }\n",
       "\n",
       "    .dataframe thead th {\n",
       "        text-align: right;\n",
       "    }\n",
       "</style>\n",
       "<table border=\"1\" class=\"dataframe\">\n",
       "  <thead>\n",
       "    <tr style=\"text-align: right;\">\n",
       "      <th></th>\n",
       "      <th>movie</th>\n",
       "      <th>year</th>\n",
       "      <th>metascore</th>\n",
       "      <th>imdb</th>\n",
       "      <th>tmeter</th>\n",
       "      <th>audience</th>\n",
       "      <th>fandango</th>\n",
       "      <th>n_metascore</th>\n",
       "      <th>n_imdb</th>\n",
       "      <th>n_tmeter</th>\n",
       "      <th>n_audience</th>\n",
       "      <th>nr_metascore</th>\n",
       "      <th>nr_imdb</th>\n",
       "      <th>nr_tmeter</th>\n",
       "      <th>nr_audience</th>\n",
       "    </tr>\n",
       "  </thead>\n",
       "  <tbody>\n",
       "    <tr>\n",
       "      <th>108</th>\n",
       "      <td>Mechanic: Resurrection</td>\n",
       "      <td>2016</td>\n",
       "      <td>38</td>\n",
       "      <td>5.6</td>\n",
       "      <td>29</td>\n",
       "      <td>41</td>\n",
       "      <td>4.0</td>\n",
       "      <td>1.90</td>\n",
       "      <td>2.80</td>\n",
       "      <td>1.45</td>\n",
       "      <td>2.05</td>\n",
       "      <td>2.0</td>\n",
       "      <td>3.0</td>\n",
       "      <td>1.5</td>\n",
       "      <td>2.0</td>\n",
       "    </tr>\n",
       "    <tr>\n",
       "      <th>206</th>\n",
       "      <td>Warcraft</td>\n",
       "      <td>2016</td>\n",
       "      <td>32</td>\n",
       "      <td>7.0</td>\n",
       "      <td>28</td>\n",
       "      <td>71</td>\n",
       "      <td>4.0</td>\n",
       "      <td>1.60</td>\n",
       "      <td>3.50</td>\n",
       "      <td>1.40</td>\n",
       "      <td>3.55</td>\n",
       "      <td>1.5</td>\n",
       "      <td>3.5</td>\n",
       "      <td>1.5</td>\n",
       "      <td>3.5</td>\n",
       "    </tr>\n",
       "    <tr>\n",
       "      <th>106</th>\n",
       "      <td>Max Steel</td>\n",
       "      <td>2016</td>\n",
       "      <td>22</td>\n",
       "      <td>4.6</td>\n",
       "      <td>0</td>\n",
       "      <td>38</td>\n",
       "      <td>3.5</td>\n",
       "      <td>1.10</td>\n",
       "      <td>2.30</td>\n",
       "      <td>0.00</td>\n",
       "      <td>1.90</td>\n",
       "      <td>1.0</td>\n",
       "      <td>2.5</td>\n",
       "      <td>0.0</td>\n",
       "      <td>2.0</td>\n",
       "    </tr>\n",
       "    <tr>\n",
       "      <th>107</th>\n",
       "      <td>Me Before You</td>\n",
       "      <td>2016</td>\n",
       "      <td>51</td>\n",
       "      <td>7.4</td>\n",
       "      <td>58</td>\n",
       "      <td>73</td>\n",
       "      <td>4.5</td>\n",
       "      <td>2.55</td>\n",
       "      <td>3.70</td>\n",
       "      <td>2.90</td>\n",
       "      <td>3.65</td>\n",
       "      <td>2.5</td>\n",
       "      <td>3.5</td>\n",
       "      <td>3.0</td>\n",
       "      <td>3.5</td>\n",
       "    </tr>\n",
       "    <tr>\n",
       "      <th>51</th>\n",
       "      <td>Fantastic Beasts and Where to Find Them</td>\n",
       "      <td>2016</td>\n",
       "      <td>66</td>\n",
       "      <td>7.5</td>\n",
       "      <td>73</td>\n",
       "      <td>81</td>\n",
       "      <td>4.5</td>\n",
       "      <td>3.30</td>\n",
       "      <td>3.75</td>\n",
       "      <td>3.65</td>\n",
       "      <td>4.05</td>\n",
       "      <td>3.5</td>\n",
       "      <td>4.0</td>\n",
       "      <td>3.5</td>\n",
       "      <td>4.0</td>\n",
       "    </tr>\n",
       "    <tr>\n",
       "      <th>33</th>\n",
       "      <td>Cell</td>\n",
       "      <td>2016</td>\n",
       "      <td>38</td>\n",
       "      <td>4.3</td>\n",
       "      <td>11</td>\n",
       "      <td>16</td>\n",
       "      <td>3.0</td>\n",
       "      <td>1.90</td>\n",
       "      <td>2.15</td>\n",
       "      <td>0.55</td>\n",
       "      <td>0.80</td>\n",
       "      <td>2.0</td>\n",
       "      <td>2.0</td>\n",
       "      <td>0.5</td>\n",
       "      <td>1.0</td>\n",
       "    </tr>\n",
       "    <tr>\n",
       "      <th>59</th>\n",
       "      <td>Genius</td>\n",
       "      <td>2016</td>\n",
       "      <td>56</td>\n",
       "      <td>6.5</td>\n",
       "      <td>51</td>\n",
       "      <td>45</td>\n",
       "      <td>3.5</td>\n",
       "      <td>2.80</td>\n",
       "      <td>3.25</td>\n",
       "      <td>2.55</td>\n",
       "      <td>2.25</td>\n",
       "      <td>3.0</td>\n",
       "      <td>3.0</td>\n",
       "      <td>2.5</td>\n",
       "      <td>2.0</td>\n",
       "    </tr>\n",
       "    <tr>\n",
       "      <th>152</th>\n",
       "      <td>Sully</td>\n",
       "      <td>2016</td>\n",
       "      <td>74</td>\n",
       "      <td>7.5</td>\n",
       "      <td>85</td>\n",
       "      <td>85</td>\n",
       "      <td>4.5</td>\n",
       "      <td>3.70</td>\n",
       "      <td>3.75</td>\n",
       "      <td>4.25</td>\n",
       "      <td>4.25</td>\n",
       "      <td>3.5</td>\n",
       "      <td>4.0</td>\n",
       "      <td>4.0</td>\n",
       "      <td>4.0</td>\n",
       "    </tr>\n",
       "    <tr>\n",
       "      <th>4</th>\n",
       "      <td>A Hologram for the King</td>\n",
       "      <td>2016</td>\n",
       "      <td>58</td>\n",
       "      <td>6.1</td>\n",
       "      <td>70</td>\n",
       "      <td>57</td>\n",
       "      <td>3.0</td>\n",
       "      <td>2.90</td>\n",
       "      <td>3.05</td>\n",
       "      <td>3.50</td>\n",
       "      <td>2.85</td>\n",
       "      <td>3.0</td>\n",
       "      <td>3.0</td>\n",
       "      <td>3.5</td>\n",
       "      <td>3.0</td>\n",
       "    </tr>\n",
       "    <tr>\n",
       "      <th>31</th>\n",
       "      <td>Captain America: Civil War</td>\n",
       "      <td>2016</td>\n",
       "      <td>75</td>\n",
       "      <td>7.9</td>\n",
       "      <td>90</td>\n",
       "      <td>89</td>\n",
       "      <td>4.5</td>\n",
       "      <td>3.75</td>\n",
       "      <td>3.95</td>\n",
       "      <td>4.50</td>\n",
       "      <td>4.45</td>\n",
       "      <td>4.0</td>\n",
       "      <td>4.0</td>\n",
       "      <td>4.5</td>\n",
       "      <td>4.5</td>\n",
       "    </tr>\n",
       "  </tbody>\n",
       "</table>\n",
       "</div>"
      ],
      "text/plain": [
       "                                       movie  year  metascore  imdb  tmeter  \\\n",
       "108                   Mechanic: Resurrection  2016         38   5.6      29   \n",
       "206                                 Warcraft  2016         32   7.0      28   \n",
       "106                                Max Steel  2016         22   4.6       0   \n",
       "107                            Me Before You  2016         51   7.4      58   \n",
       "51   Fantastic Beasts and Where to Find Them  2016         66   7.5      73   \n",
       "33                                      Cell  2016         38   4.3      11   \n",
       "59                                    Genius  2016         56   6.5      51   \n",
       "152                                    Sully  2016         74   7.5      85   \n",
       "4                    A Hologram for the King  2016         58   6.1      70   \n",
       "31                Captain America: Civil War  2016         75   7.9      90   \n",
       "\n",
       "     audience  fandango  n_metascore  n_imdb  n_tmeter  n_audience  \\\n",
       "108        41       4.0         1.90    2.80      1.45        2.05   \n",
       "206        71       4.0         1.60    3.50      1.40        3.55   \n",
       "106        38       3.5         1.10    2.30      0.00        1.90   \n",
       "107        73       4.5         2.55    3.70      2.90        3.65   \n",
       "51         81       4.5         3.30    3.75      3.65        4.05   \n",
       "33         16       3.0         1.90    2.15      0.55        0.80   \n",
       "59         45       3.5         2.80    3.25      2.55        2.25   \n",
       "152        85       4.5         3.70    3.75      4.25        4.25   \n",
       "4          57       3.0         2.90    3.05      3.50        2.85   \n",
       "31         89       4.5         3.75    3.95      4.50        4.45   \n",
       "\n",
       "     nr_metascore  nr_imdb  nr_tmeter  nr_audience  \n",
       "108           2.0      3.0        1.5          2.0  \n",
       "206           1.5      3.5        1.5          3.5  \n",
       "106           1.0      2.5        0.0          2.0  \n",
       "107           2.5      3.5        3.0          3.5  \n",
       "51            3.5      4.0        3.5          4.0  \n",
       "33            2.0      2.0        0.5          1.0  \n",
       "59            3.0      3.0        2.5          2.0  \n",
       "152           3.5      4.0        4.0          4.0  \n",
       "4             3.0      3.0        3.5          3.0  \n",
       "31            4.0      4.0        4.5          4.5  "
      ]
     },
     "execution_count": 13,
     "metadata": {},
     "output_type": "execute_result"
    }
   ],
   "source": [
    "rAfter.sample(10, random_state=1)"
   ]
  },
  {
   "cell_type": "markdown",
   "metadata": {},
   "source": [
    "As of April 2019, these are the fan ratings:\n",
    "- Mechanic: Ressurection - 2251 ratings\n",
    "- Warcraft -  7284 ratings\n",
    "- Max Steel - 495 ratings\n",
    "- Me Before You - 5274 ratings\n",
    "- Fantastic Beasts and Where to Find Them - 13502 ratings\n",
    "- Cell - 18 ratings\n",
    "- Genius - 127 ratings\n",
    "- Sully - 11890 ratings\n",
    "- A Hologram for the King - 501 ratings\n",
    "- Captain America: Civil War - 35177 ratings"
   ]
  },
  {
   "cell_type": "markdown",
   "metadata": {},
   "source": [
    "90% of the movies in our sample are popular. This is enough and we move forward with a bit more confidence."
   ]
  },
  {
   "cell_type": "markdown",
   "metadata": {},
   "source": [
    "<hr>"
   ]
  },
  {
   "cell_type": "markdown",
   "metadata": {},
   "source": [
    "<center><h2> Data Manipulation </h2></center>"
   ]
  },
  {
   "cell_type": "markdown",
   "metadata": {},
   "source": [
    "#### Filtering columns dataset"
   ]
  },
  {
   "cell_type": "code",
   "execution_count": 20,
   "metadata": {
    "collapsed": true
   },
   "outputs": [],
   "source": [
    "# Selecting the columns which we want to keep from both datasets\n",
    "cols_previous = ['FILM', 'Fandango_Stars',\n",
    "                 'Fandango_Ratingvalue', 'Fandango_votes',\n",
    "                 'Fandango_Difference']\n",
    "cols_after = ['movie', 'year', 'fandango']\n",
    "\n",
    "# Copy datasets\n",
    "tPrevious = rPrevious.copy()\n",
    "tAfter = rAfter.copy()\n",
    "\n",
    "# Filter datasets\n",
    "tPrevious = tPrevious[cols_previous]\n",
    "tAfter = tAfter[cols_after]"
   ]
  },
  {
   "cell_type": "markdown",
   "metadata": {},
   "source": [
    "#### Filtering only movies released in 2015 and 2016"
   ]
  },
  {
   "cell_type": "code",
   "execution_count": 21,
   "metadata": {
    "collapsed": false
   },
   "outputs": [
    {
     "name": "stdout",
     "output_type": "stream",
     "text": [
      "Hickeys dataset has movies from ['2015' '2014'] years\n",
      "Dataset from 2016-17 has movies from [2016 2017] years\n"
     ]
    }
   ],
   "source": [
    "tPrevious['YEAR'] = tPrevious['FILM'].str[-5:-1]\n",
    "print('Hickeys dataset has movies from', \n",
    "      tPrevious['YEAR'].unique(), 'years')\n",
    "\n",
    "print('Dataset from 2016-17 has movies from', \n",
    "      tAfter['year'].unique(), 'years')"
   ]
  },
  {
   "cell_type": "code",
   "execution_count": 22,
   "metadata": {
    "collapsed": true
   },
   "outputs": [],
   "source": [
    "# The Hickey's dataset have the release year of the movie in\n",
    "# the FILM colum\n",
    "tPrevious = tPrevious[tPrevious['FILM'].str.contains('2015')]\n",
    "tAfter = tAfter[tAfter['year']==2016]"
   ]
  },
  {
   "cell_type": "markdown",
   "metadata": {},
   "source": [
    "<hr>"
   ]
  },
  {
   "cell_type": "markdown",
   "metadata": {},
   "source": [
    "<center><h2> Analysis </h2></center>"
   ]
  },
  {
   "cell_type": "markdown",
   "metadata": {},
   "source": [
    "#### Comparing the shape of distribution "
   ]
  },
  {
   "cell_type": "code",
   "execution_count": 40,
   "metadata": {
    "collapsed": false
   },
   "outputs": [
    {
     "data": {
      "image/png": "[encoded data removed]",
      "text/plain": [
       "<matplotlib.figure.Figure at 0x7ff280a21208>"
      ]
     },
     "metadata": {},
     "output_type": "display_data"
    }
   ],
   "source": [
    "## We will use FiveThirtyEight style for the plots\n",
    "plt.style.use('fivethirtyeight')\n",
    "\n",
    "plt.figure(figsize=(8,5))\n",
    "tPrevious['Fandango_Stars'].plot.kde(label='2015', legend=True)\n",
    "tAfter['fandango'].plot.kde(label='2016', legend=True)\n",
    "\n",
    "plt.title(\"Distribution shape for fandango's ratings (2015-16)\",\n",
    "          y= 1.1)\n",
    "plt.xlabel(\"Fandango's ratings\")\n",
    "plt.xticks(np.arange(0,5.1,.5))\n",
    "plt.xlim(0,5);"
   ]
  },
  {
   "cell_type": "markdown",
   "metadata": {},
   "source": [
    "From the plot above we can conclude 2 things:\n",
    "1. Both the shape for movies from 2015 and 2016 are strongly left skewed. This suggests that movies on Fandango are given mostly high and very high fan ratings\n",
    "2. The curve related to movies from 2016 is a little bit shifted towards the left, when compared to the curve from movies from 2015. This indicates that movie ratings were slightly lower in 2016 compared to 2015"
   ]
  },
  {
   "cell_type": "markdown",
   "metadata": {},
   "source": [
    "#### Comparing the frequency distributions "
   ]
  },
  {
   "cell_type": "markdown",
   "metadata": {},
   "source": [
    "Since the samples have different number of movies, we cannot use absolute frequencies to make a comparison. In addition to that, for better readability, we will use percentages instead of proportions"
   ]
  },
  {
   "cell_type": "code",
   "execution_count": 46,
   "metadata": {
    "collapsed": false
   },
   "outputs": [
    {
     "data": {
      "text/plain": [
       "3.0     8.527132\n",
       "3.5    17.829457\n",
       "4.0    28.682171\n",
       "4.5    37.984496\n",
       "5.0     6.976744\n",
       "Name: Fandango_Stars, dtype: float64"
      ]
     },
     "execution_count": 46,
     "metadata": {},
     "output_type": "execute_result"
    }
   ],
   "source": [
    "(tPrevious['Fandango_Stars'].\n",
    " value_counts(normalize=True).sort_index()*100)"
   ]
  },
  {
   "cell_type": "code",
   "execution_count": 47,
   "metadata": {
    "collapsed": false
   },
   "outputs": [
    {
     "data": {
      "text/plain": [
       "2.5     3.141361\n",
       "3.0     7.329843\n",
       "3.5    24.083770\n",
       "4.0    40.314136\n",
       "4.5    24.607330\n",
       "5.0     0.523560\n",
       "Name: fandango, dtype: float64"
      ]
     },
     "execution_count": 47,
     "metadata": {},
     "output_type": "execute_result"
    }
   ],
   "source": [
    "(tAfter['fandango'].\n",
    " value_counts(normalize=True).sort_index()*100)"
   ]
  },
  {
   "cell_type": "markdown",
   "metadata": {},
   "source": [
    "From the frequency tables above we conclude that:\n",
    "- The ratings for movies from 2016 is indeed lower when compared to the ratings for movies from 2015:\n",
    "  - The lowest rating in 2016 is 2.5 while in 2015 is 3.0\n",
    "  - Only 0.5% of the ratings in 2016 received 5 stars, where as in 2015 almost 7% of the ratings were 5 stars\n",
    "  - The mode (the most frequent rating) in 2016 was 4.0 while in 2015 was 4.5\n",
    "- Movies from 2016 received more frequent 3.5 stars (24%) when compared to movies from 2015 (18%)"
   ]
  },
  {
   "cell_type": "markdown",
   "metadata": {},
   "source": [
    "#### Computing statistics"
   ]
  },
  {
   "cell_type": "markdown",
   "metadata": {},
   "source": [
    "For each one of the datasets we will compute the mean, median and mode and compare these metrics to determine the direction of the difference"
   ]
  },
  {
   "cell_type": "code",
   "execution_count": 68,
   "metadata": {
    "collapsed": false
   },
   "outputs": [],
   "source": [
    "# Computing metrics for tPrevious\n",
    "previous_mean = tPrevious['Fandango_Stars'].mean()\n",
    "previous_median = tPrevious['Fandango_Stars'].median()\n",
    "previous_mode = tPrevious['Fandango_Stars'].mode()\n",
    "\n",
    "# Computing metrics for tAfter\n",
    "after_mean = tAfter['fandango'].mean()\n",
    "after_median = tAfter['fandango'].median()\n",
    "after_mode = tAfter['fandango'].mode()\n",
    "\n",
    "metrics_2015 = {'mean': previous_mean,\n",
    "                'median': previous_median,\n",
    "                'mode': previous_mode}\n",
    "\n",
    "metrics_2016 = {'mean': after_mean,\n",
    "                'median': after_median,\n",
    "                'mode': after_mode}\n",
    "\n",
    "df_2015 = pd.DataFrame(metrics_2015).T\n",
    "df_2016 = pd.DataFrame(metrics_2016).T\n",
    "df_metrics = pd.concat([df_2015, df_2016], axis=1)\n",
    "df_metrics.columns = ['2015', '2016']"
   ]
  },
  {
   "cell_type": "code",
   "execution_count": 85,
   "metadata": {
    "collapsed": false
   },
   "outputs": [
    {
     "data": {
      "image/png": "[encoded data removed]",
      "text/plain": [
       "<matplotlib.figure.Figure at 0x7ff2802fa048>"
      ]
     },
     "metadata": {},
     "output_type": "display_data"
    }
   ],
   "source": [
    "df_metrics['2015'].plot.bar(color = '#0fbff2', align = 'center', \n",
    "                            label = '2015', width = .25)\n",
    "df_metrics['2016'].plot.bar(color = '#aaaaaa', align = 'edge', \n",
    "                            label = '2016', width = 0.25, \n",
    "                            rot = 0)\n",
    "\n",
    "plt.title('Comparing summary statistics: 2015 vs 2016', y = 1.07)\n",
    "plt.ylim(0,5.5)\n",
    "plt.yticks(np.arange(0,5.1,.5))\n",
    "plt.ylabel('Stars')\n",
    "plt.legend(framealpha = 0, loc = 'upper right')\n",
    "plt.show()"
   ]
  },
  {
   "cell_type": "markdown",
   "metadata": {},
   "source": [
    "We can conclude that: \n",
    "- The mean for 2016 is slightly lower than 2015\n",
    "- The mode in 2016 is lower than 2015 by 0.5 ratings"
   ]
  },
  {
   "cell_type": "markdown",
   "metadata": {},
   "source": [
    "<hr>"
   ]
  },
  {
   "cell_type": "markdown",
   "metadata": {},
   "source": [
    "<center><h2> Conclusion </h2></center>"
   ]
  },
  {
   "cell_type": "markdown",
   "metadata": {},
   "source": [
    "Our analysis showed that there's indeed a slight reduction of Fandango's rating for popular movies in 2016 when compared to ratings for popular movies in 2016. We also determined that, on average, popular movies released in 2016 were rated lower on Fandango than popular movies released in 2015 (as was seen in the kernel density plots, frequency table and metrics bar plots)"
   ]
  },
  {
   "cell_type": "markdown",
   "metadata": {},
   "source": [
    "<hr>"
   ]
  }
 ],
 "metadata": {
  "kernelspec": {
   "display_name": "Python 3",
   "language": "python",
   "name": "python3"
  },
  "language_info": {
   "codemirror_mode": {
    "name": "ipython",
    "version": 3
   },
   "file_extension": ".py",
   "mimetype": "text/x-python",
   "name": "python",
   "nbconvert_exporter": "python",
   "pygments_lexer": "ipython3",
   "version": "3.4.3"
  }
 },
 "nbformat": 4,
 "nbformat_minor": 2
}
